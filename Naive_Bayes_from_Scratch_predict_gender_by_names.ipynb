{
  "nbformat": 4,
  "nbformat_minor": 0,
  "metadata": {
    "colab": {
      "name": "Naive Nayes from Scratch - predict gender by names",
      "provenance": [],
      "collapsed_sections": [],
      "toc_visible": true
    },
    "kernelspec": {
      "name": "python3",
      "display_name": "Python 3"
    }
  },
  "cells": [
    {
      "cell_type": "code",
      "metadata": {
        "id": "PTse0YEC9-bx",
        "colab_type": "code",
        "colab": {}
      },
      "source": [
        "import numpy as np"
      ],
      "execution_count": 0,
      "outputs": []
    },
    {
      "cell_type": "code",
      "metadata": {
        "id": "4DYmgt4j-DHQ",
        "colab_type": "code",
        "colab": {}
      },
      "source": [
        "def name2feature(filename, B = 128, FIX = 3, Loadfile = True):\n",
        "  \n",
        "  def hashfeatures(baby):\n",
        "    # Takes a name and hash its first and last \"FIX\" number of letters and hash them\n",
        "    # After hashing, they are converted into vector indices and those vector values are assigned values 1.\n",
        "    \n",
        "    n = np.zeros((B,1))\n",
        "    for i in range(FIX):\n",
        "      name = \"prefix\" + baby[0:min(i+1,len(baby))]\n",
        "      n[abs(hash(name)%B)] = 1\n",
        "      name = \"suffix\" + baby[max(len(baby)-1-i,0):(len(baby))]\n",
        "      n[abs(hash(name)%B)] = 1\n",
        "    return n\n",
        "\n",
        "  if Loadfile:\n",
        "    file1 = open(filename,'r')\n",
        "    babynames = [name for name in file1.read().splitlines()]\n",
        "    file1.close()\n",
        "  else:\n",
        "    babynames = filename.split('\\n')\n",
        "\n",
        "  x = np.zeros((len(babynames),B))\n",
        "  \n",
        "  for i in range(len(babynames)):\n",
        "    x[i,:] = hashfeatures(babynames[i]).reshape(-1)\n",
        "  return x\n",
        "\n"
      ],
      "execution_count": 0,
      "outputs": []
    },
    {
      "cell_type": "code",
      "metadata": {
        "id": "6vMKJABw_Kr_",
        "colab_type": "code",
        "colab": {}
      },
      "source": [
        "def genTrainFeatures(dim = 128,fix = 3):\n",
        "  x = name2feature('boys.train',B = dim, FIX = fix)\n",
        "  y = name2feature('girls.train',B = dim, FIX = fix)\n",
        "  a = np.ones((x.shape[0],1))\n",
        "  b = -1*np.ones((y.shape[0],1))\n",
        "  X = np.concatenate((x, y), axis = 0)\n",
        "  Y = np.concatenate((a, b), axis = 0)\n",
        "  np.random.seed(42)\n",
        "  perm = np.random.permutation(X.shape[0])\n",
        "  X = X[perm,:]\n",
        "  Y = Y[perm,:]\n",
        "  return X,Y\n"
      ],
      "execution_count": 0,
      "outputs": []
    },
    {
      "cell_type": "markdown",
      "metadata": {
        "id": "LyP9He_7E8ug",
        "colab_type": "text"
      },
      "source": [
        "### **Naive Bayes Linear Classifier**"
      ]
    },
    {
      "cell_type": "code",
      "metadata": {
        "id": "kpfiYlrOEJrA",
        "colab_type": "code",
        "colab": {}
      },
      "source": [
        "def naivebayesPY(x,y):\n",
        "  pos = ((y==1).sum())/len(y)\n",
        "  neg = 1 - pos\n",
        "  return pos,neg"
      ],
      "execution_count": 0,
      "outputs": []
    },
    {
      "cell_type": "code",
      "metadata": {
        "id": "RyLkQzLTPapj",
        "colab_type": "code",
        "colab": {}
      },
      "source": [
        "def naivebayesPXY(x,y):\n",
        "  # x : nxd Matrix\n",
        "  # y : nx1 Labels\n",
        "  # Output:\n",
        "  # posprob: probability vector of p(x|y=1) (dx1)\n",
        "  # negprob: probability vector of p(x|y=-1) (dx1) \n",
        "\n",
        "  y1 = (y==1).sum()\n",
        "  y2 = (y==-1).sum()\n",
        "  ind = (y==1).reshape(-1).tolist()\n",
        "  ind2 = (y==-1).reshape(-1).tolist()\n",
        "  posprob = (((np.sum(x[ind,:], axis = 0))+1)/(y1+2)).reshape(-1,1)\n",
        "  negprob = (((np.sum(x[ind2,:], axis = 0))+1)/(y2+2)).reshape(-1,1)\n",
        "  return posprob,negprob"
      ],
      "execution_count": 0,
      "outputs": []
    },
    {
      "cell_type": "code",
      "metadata": {
        "id": "eQnd8w7CbAHy",
        "colab_type": "code",
        "colab": {}
      },
      "source": [
        "def naivebayes(x,y,xtest):\n",
        "  # x : nxd\n",
        "  # y : nx1\n",
        "  # xtest : 1xd\n",
        "  # Finding log-odds of p(y=1|x)/p(y=-1|x)\n",
        "\n",
        "  posprob,negprob = naivebayesPXY(x,y)\n",
        "  pos,neg = naivebayesPY(x,y)\n",
        "  poscond = np.matmul(np.log(posprob),xtest.T) + np.log(pos)\n",
        "  negcond = np.matmul(np.log(negprob),xtest.T) + np.log(neg)\n",
        "  logodds = poscond - negcond\n",
        "  return logodds\n",
        "\n"
      ],
      "execution_count": 0,
      "outputs": []
    },
    {
      "cell_type": "code",
      "metadata": {
        "id": "RFI0vjzsgn49",
        "colab_type": "code",
        "colab": {}
      },
      "source": [
        "def naivebayesCL(x,y):\n",
        "  posprob,negprob = naivebayesPXY(x,y)\n",
        "  pos,neg = naivebayesPY(x,y)\n",
        "  w = np.log(posprob) - np.log(negprob)\n",
        "  b = np.log(pos) - np.log(neg)\n",
        "  return w,b\n"
      ],
      "execution_count": 0,
      "outputs": []
    },
    {
      "cell_type": "code",
      "metadata": {
        "id": "r54CIV4Fl4TQ",
        "colab_type": "code",
        "colab": {}
      },
      "source": [
        "def classifyLinear(x,w,b = 0):\n",
        "  # x : nxd\n",
        "  # w : dx1\n",
        "  # b : scaler\n",
        "  pred = np.matmul(x,w) + b\n",
        "  pred = np.where(pred>0,+1,-1)\n",
        "  return pred"
      ],
      "execution_count": 0,
      "outputs": []
    },
    {
      "cell_type": "code",
      "metadata": {
        "id": "znBXhGgmv0qT",
        "colab_type": "code",
        "colab": {}
      },
      "source": [
        "def error(pred,true):\n",
        "  # pred : nx1\n",
        "  # true : nx1\n",
        "  acc = (pred == true).sum()/len(true) \n",
        "  return (1-acc)\n",
        "  "
      ],
      "execution_count": 0,
      "outputs": []
    },
    {
      "cell_type": "code",
      "metadata": {
        "id": "IbkXDgTs1uOW",
        "colab_type": "code",
        "outputId": "ae07a66c-baf6-439f-a271-1d1aa9b244a6",
        "colab": {
          "base_uri": "https://localhost:8080/",
          "height": 34
        }
      },
      "source": [
        "x,y = genTrainFeatures(dim = 128)\n",
        "w,b = naivebayesCL(x,y)\n",
        "pred = classifyLinear(x,w,b)\n",
        "print(\"The error on the training data is\",error(pred,y)*100,\"%\")"
      ],
      "execution_count": 11,
      "outputs": [
        {
          "output_type": "stream",
          "text": [
            "The error on the training data is 23.166666666666668 %\n"
          ],
          "name": "stdout"
        }
      ]
    },
    {
      "cell_type": "code",
      "metadata": {
        "id": "B2IeCvforCUa",
        "colab_type": "code",
        "outputId": "cb7b3775-bdf4-46ec-a6b1-483e1102bc8f",
        "colab": {
          "base_uri": "https://localhost:8080/",
          "height": 34
        }
      },
      "source": [
        "x,y = genTrainFeatures(dim = 1200)\n",
        "w,b = naivebayesCL(x,y)\n",
        "pred = classifyLinear(x,w,b)\n",
        "print(\"The error on the training data is\",error(pred,y)*100,\"%\")"
      ],
      "execution_count": 12,
      "outputs": [
        {
          "output_type": "stream",
          "text": [
            "The error on the training data is 12.250000000000005 %\n"
          ],
          "name": "stdout"
        }
      ]
    },
    {
      "cell_type": "code",
      "metadata": {
        "id": "1iGa9EqH9aSC",
        "colab_type": "code",
        "outputId": "90eef134-0105-462c-e74f-f6e6ba20823c",
        "colab": {
          "base_uri": "https://localhost:8080/",
          "height": 391
        }
      },
      "source": [
        "dimentions = 128\n",
        "x,y = genTrainFeatures(dim = dimentions)\n",
        "w,b = naivebayesCL(x,y)\n",
        "pred = classifyLinear(x,w,b)\n",
        "print(\"Training error:\",error(pred,y)*100,\"%\")\n",
        "check = True\n",
        "while check:\n",
        "  name = input(\"Please enter your name : \")\n",
        "  if len(name) == 0:\n",
        "    break\n",
        "  xtest = name2feature(name, B=dimentions, Loadfile= False)\n",
        "  pred = classifyLinear(xtest, w, b)\n",
        "  if pred == +1:\n",
        "    print(name,\",I am sure you are a nice boy!!!\")\n",
        "  else:\n",
        "    print(name,\",I am sure you are a nice girl!!!\")\n",
        "\n",
        "  \n"
      ],
      "execution_count": 13,
      "outputs": [
        {
          "output_type": "stream",
          "text": [
            "Training error: 23.166666666666668 %\n",
            "Please enter your name : ramsha\n",
            "ramsha ,I am sure you are a nice girl!!!\n",
            "Please enter your name : angelina\n",
            "angelina ,I am sure you are a nice girl!!!\n",
            "Please enter your name : julie\n",
            "julie ,I am sure you are a nice girl!!!\n",
            "Please enter your name : adam\n",
            "adam ,I am sure you are a nice girl!!!\n",
            "Please enter your name : eve\n",
            "eve ,I am sure you are a nice boy!!!\n",
            "Please enter your name : christoph\n",
            "christoph ,I am sure you are a nice girl!!!\n",
            "Please enter your name : marina\n",
            "marina ,I am sure you are a nice girl!!!\n",
            "Please enter your name : melina\n",
            "melina ,I am sure you are a nice girl!!!\n",
            "Please enter your name : frietag\n",
            "frietag ,I am sure you are a nice boy!!!\n",
            "Please enter your name : stephen\n",
            "stephen ,I am sure you are a nice boy!!!\n",
            "Please enter your name : \n"
          ],
          "name": "stdout"
        }
      ]
    },
    {
      "cell_type": "code",
      "metadata": {
        "id": "FDcUo7VRBJUQ",
        "colab_type": "code",
        "colab": {}
      },
      "source": [
        ""
      ],
      "execution_count": 0,
      "outputs": []
    }
  ]
}