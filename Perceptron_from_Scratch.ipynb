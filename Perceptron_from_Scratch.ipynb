{
  "nbformat": 4,
  "nbformat_minor": 0,
  "metadata": {
    "colab": {
      "name": "Perceptron from Scratch",
      "provenance": [],
      "collapsed_sections": []
    },
    "kernelspec": {
      "name": "python3",
      "display_name": "Python 3"
    }
  },
  "cells": [
    {
      "cell_type": "code",
      "metadata": {
        "id": "gfZG_lpZb6GG",
        "colab_type": "code",
        "colab": {}
      },
      "source": [
        "import numpy as np\n",
        "import matplotlib.pyplot as plt\n",
        "from scipy.io import loadmat"
      ],
      "execution_count": 0,
      "outputs": []
    },
    {
      "cell_type": "code",
      "metadata": {
        "id": "OS_vqawPPCin",
        "colab_type": "code",
        "colab": {}
      },
      "source": [
        "def perceptronUpdate(x,y,w):\n",
        "  # x : must be dx1 vector\n",
        "  # w : must be dx1 vector\n",
        "  # y : must be +1 or -1\n",
        "  x = x.reshape(-1,1)\n",
        "  check  = y*(np.matmul(w.T,x)[0][0])\n",
        "  if check <= 0:\n",
        "    w = w + (y*x)\n",
        "  return w"
      ],
      "execution_count": 0,
      "outputs": []
    },
    {
      "cell_type": "code",
      "metadata": {
        "id": "QumrnJN8QVKy",
        "colab_type": "code",
        "colab": {}
      },
      "source": [
        "def perceptron(x,y):\n",
        "  # x : dxn matrix\n",
        "  # y : 1xd d labels\n",
        "  d = x.shape[0]\n",
        "  n = x.shape[1]\n",
        "  w = np.zeros((d,1))\n",
        "  for i in range(100):\n",
        "    rand  = np.random.permutation(n)\n",
        "    x = x[:,rand]\n",
        "    y = y[:,rand]\n",
        "    for j in range(n):\n",
        "      w = perceptronUpdate(x[:,j],y[:,j],w)\n",
        "  return w"
      ],
      "execution_count": 0,
      "outputs": []
    },
    {
      "cell_type": "code",
      "metadata": {
        "id": "pR_fvoqfR4e6",
        "colab_type": "code",
        "colab": {}
      },
      "source": [
        "def classifyLinear(xtest, w, b = 0):\n",
        "  # xtest : dxn matrix\n",
        "  # w : dx1 vector\n",
        "  # bias : scaler\n",
        "  # pred = x*w.T == nx1 vector\n",
        "  mat = (np.matmul(w.T,x))+b\n",
        "  mat = np.where(mat>0,+1,-1)\n",
        "  return mat"
      ],
      "execution_count": 0,
      "outputs": []
    },
    {
      "cell_type": "code",
      "metadata": {
        "id": "KCKOCnbgIvr6",
        "colab_type": "code",
        "colab": {}
      },
      "source": [
        "def plotting(n):\n",
        "  np.random.seed(42)\n",
        "  xran = np.random.randn(2,n)*2\n",
        "  w = np.random.random_sample((2,1))\n",
        "  print(\"Selected w:\",w)\n",
        "  yran = np.matmul(w.T,xran).reshape(1,-1)\n",
        "  yran = np.where(yran>=0,+1,-1)\n",
        "  shuffle = np.random.permutation(n)\n",
        "  xran = xran[:,shuffle]\n",
        "  yran = yran[:,shuffle]\n",
        "  w = perceptron(xran,yran)\n",
        "  print(\"calculated w:\",w)\n",
        "  pts1 = (yran == +1).reshape(-1)\n",
        "  pts1 = xran[:,pts1]\n",
        "  x11 = pts1[0,:]\n",
        "  x12 = pts1[1,:]\n",
        "  pts2 = (yran == -1).reshape(-1)\n",
        "  pts2 = xran[:,pts2]\n",
        "  x21 = pts2[0,:]\n",
        "  x22 = pts2[1,:]\n",
        "  axisx = np.linspace(-5,5,10)\n",
        "  coef = -(w[0]/w[1])\n",
        "  axisy = coef*axisx \n",
        "  plt.subplots(figsize= (10,6))\n",
        "  plt.scatter(x11,x12,c = 'r',label = \"x1\")\n",
        "  plt.scatter(x21,x22,c = 'b',label = \"x2\")\n",
        "  plt.plot(axisx,axisy,c = 'black')\n",
        "  plt.xlabel(\"x1\",fontsize = 20)\n",
        "  plt.ylabel(\"x2\",fontsize = 20)\n",
        "  plt.title(\"Testing Perceptron Algorthm\",fontsize = 20)\n",
        "  plt.legend()\n",
        "  return\n",
        "\n"
      ],
      "execution_count": 0,
      "outputs": []
    },
    {
      "cell_type": "code",
      "metadata": {
        "id": "RXUq-uuxYtFe",
        "colab_type": "code",
        "colab": {
          "base_uri": "https://localhost:8080/",
          "height": 486
        },
        "outputId": "2bbf1af5-35c0-4ff8-e01f-66129f20ed59"
      },
      "source": [
        "plotting(100)"
      ],
      "execution_count": 96,
      "outputs": [
        {
          "output_type": "stream",
          "text": [
            "Selected w: [[0.87737307]\n",
            " [0.74076862]]\n",
            "calculated w: [[5.2365146 ]\n",
            " [4.50998903]]\n"
          ],
          "name": "stdout"
        },
        {
          "output_type": "display_data",
          "data": {
            "image/png": "[encoded data removed]",
            "text/plain": [
              "<Figure size 720x432 with 1 Axes>"
            ]
          },
          "metadata": {
            "tags": []
          }
        }
      ]
    }
  ]
}