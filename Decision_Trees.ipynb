{
  "nbformat": 4,
  "nbformat_minor": 0,
  "metadata": {
    "kernelspec": {
      "display_name": "Python 3",
      "language": "python",
      "name": "python3"
    },
    "language_info": {
      "codemirror_mode": {
        "name": "ipython",
        "version": 3
      },
      "file_extension": ".py",
      "mimetype": "text/x-python",
      "name": "python",
      "nbconvert_exporter": "python",
      "pygments_lexer": "ipython3",
      "version": "3.6.9"
    },
    "colab": {
      "name": "Decision_Trees",
      "provenance": [],
      "collapsed_sections": [],
      "toc_visible": true
    }
  },
  "cells": [
    {
      "cell_type": "code",
      "metadata": {
        "id": "t7lFMVjjGjfl",
        "colab_type": "code",
        "colab": {}
      },
      "source": [
        "import numpy as np\n",
        "import matplotlib.pyplot as plt\n",
        "import seaborn as sns\n",
        "from scipy.io import loadmat\n",
        "from scipy import stats"
      ],
      "execution_count": 0,
      "outputs": []
    },
    {
      "cell_type": "markdown",
      "metadata": {
        "id": "hNRqM7X0Gjg-",
        "colab_type": "text"
      },
      "source": [
        "## Classification Part"
      ]
    },
    {
      "cell_type": "code",
      "metadata": {
        "id": "r8PTOfHyGjhC",
        "colab_type": "code",
        "colab": {}
      },
      "source": [
        "def entropysplit(xtr,ytr):\n",
        "    # xtr : nxd\n",
        "    # ytr : nx1\n",
        "    n = xtr.shape[0]\n",
        "    dim = xtr.shape[1]\n",
        "    \n",
        "    IG = 0 #Information Gain set to 0 initially\n",
        "    final_entropy = 0\n",
        "    final_cut = 0\n",
        "    final_dim = 0\n",
        "    lst = []\n",
        "    \n",
        "    ytr = ytr.reshape(-1)\n",
        "    _,uniq = np.unique(ytr,return_counts = True)\n",
        "    tot = np.sum(uniq)\n",
        "    pk = uniq/tot\n",
        "    init_entropy = -1*np.sum(pk*np.log2(pk))\n",
        "    \n",
        "    if(init_entropy == 0):\n",
        "        return (-1,-1)\n",
        "    \n",
        "    \n",
        "    for d in range(dim):\n",
        "        x = xtr[:,d]\n",
        "        ind = np.argsort(x)\n",
        "        x = x[ind]\n",
        "        y = ytr[ind]\n",
        "        for i in range(len(x)-1):\n",
        "            cut = x[i]\n",
        "            ii = (x > cut)\n",
        "            ynew = y[ii]\n",
        "            sR = len(ynew)/n\n",
        "            sL = 1 - sR\n",
        "            _,c = np.unique(ynew,return_counts = True)\n",
        "            tot = np.sum(c)\n",
        "            pk = c/tot\n",
        "            eR = -1*np.sum(pk*np.log2(pk))\n",
        "            \n",
        "            ii = (x <= cut)\n",
        "            ynew = y[ii]\n",
        "            _,c = np.unique(ynew,return_counts = True)\n",
        "            tot = np.sum(c)\n",
        "            pk = c/tot\n",
        "            eL = -1*np.sum(pk*np.log2(pk))\n",
        "            \n",
        "            entropy = sR*eR + sL*eL\n",
        "            lst.append(entropy)\n",
        "            check = init_entropy - entropy\n",
        "            \n",
        "            if check > IG:\n",
        "                IG = check \n",
        "                final_entropy = entropy\n",
        "                final_cut = cut\n",
        "                final_dim = d\n",
        "                \n",
        "    return final_cut,final_dim"
      ],
      "execution_count": 0,
      "outputs": []
    },
    {
      "cell_type": "code",
      "metadata": {
        "id": "Pt5ueSVaGjiC",
        "colab_type": "code",
        "colab": {}
      },
      "source": [
        "def tree(xtr,ytr, t, lst, maxdepth = 1000, index = 0):\n",
        "    # xtr : nxd\n",
        "    # ytr : nx1\n",
        "    # t : Matrix of Trees\n",
        "    # lst : list of child names\n",
        "    ytr = ytr.reshape(-1)\n",
        "    mod = stats.mode(ytr)[0]\n",
        "    t[0,index] = mod\n",
        "    cut,dim = entropysplit(xtr,ytr)\n",
        "    if dim ==-1:\n",
        "        t[1,index] = 0\n",
        "        t[2,index] = 0\n",
        "        t[3,index] = 0\n",
        "        t[4,index] = 0\n",
        "        return\n",
        "    if index  >= maxdepth:\n",
        "        return\n",
        "    t[1,index] = dim\n",
        "    t[2,index] = cut\n",
        "    ii = np.where(xtr[:,dim]>cut,True,False)\n",
        "    x = xtr[ii]\n",
        "    y = ytr[ii]\n",
        "    \n",
        "    \n",
        "    ii1 = np.where(xtr[:,dim]<=cut,True,False)\n",
        "    x1 = xtr[ii1]\n",
        "    y1 = ytr[ii1]\n",
        "    \n",
        "    t[3,index] = lst.pop(0) # right child index\n",
        "    t[4,index] = lst.pop(0) # left child index\n",
        "    \n",
        "    tree(x, y, t, lst, maxdepth, index = int(t[3,index]))\n",
        "    tree(x1, y1, t, lst, maxdepth, index = int(t[4,index]))\n",
        "    return t"
      ],
      "execution_count": 0,
      "outputs": []
    },
    {
      "cell_type": "code",
      "metadata": {
        "id": "5SNgKpVUGjiQ",
        "colab_type": "code",
        "colab": {}
      },
      "source": [
        "def evaluate(t, xte, yte): \n",
        "    # t : Tree Matrix\n",
        "    # xte : nxd ---> test set\n",
        "    n = xte.shape[0]\n",
        "    ypred = np.zeros((n,1))\n",
        "    for i in range(n):\n",
        "        index = 0\n",
        "        while True:\n",
        "            if t[3,index] == 0:\n",
        "                ypred[i] = t[0,index]\n",
        "                break\n",
        "            else:\n",
        "                if xte[i,int(t[1,index])] > t[2,index]:\n",
        "                    index = int(t[3,index])\n",
        "                else:\n",
        "                    index = int(t[4,index])\n",
        "    \n",
        "    ypred = ypred.reshape(-1)\n",
        "    yte = yte.reshape(-1)\n",
        "    acc = np.sum(ypred == yte)/(len(ypred))\n",
        "    return (1-acc),ypred"
      ],
      "execution_count": 0,
      "outputs": []
    },
    {
      "cell_type": "markdown",
      "metadata": {
        "id": "JnS6zGgqx2Wa",
        "colab_type": "text"
      },
      "source": [
        "## TESTING TREE"
      ]
    },
    {
      "cell_type": "code",
      "metadata": {
        "id": "Rm9fERM1x1n6",
        "colab_type": "code",
        "colab": {
          "base_uri": "https://localhost:8080/",
          "height": 391
        },
        "outputId": "1c6dd794-d499-47ce-fc93-2393289bc6b5"
      },
      "source": [
        "## Training Data\n",
        "xp = np.array([[1,6],[3,3],[3,4],[4,1],[5,4],[6,3],[7,4],[8,5],[9,6]])\n",
        "yp = np.array([1,0,0,1,0,1,1,1,1]) \n",
        "\n",
        "## Test data\n",
        "\n",
        "xtep = np.array([[7,7],[0.25,2],[4,6]])\n",
        "ytep = np.array([1,1,0])\n",
        "\n",
        "## plot\n",
        "plt.subplots(figsize = (10,6))\n",
        "sns.scatterplot(xp[:,0],xp[:,1],hue = yp)"
      ],
      "execution_count": 68,
      "outputs": [
        {
          "output_type": "execute_result",
          "data": {
            "text/plain": [
              "<matplotlib.axes._subplots.AxesSubplot at 0x7fd7b20c6e80>"
            ]
          },
          "metadata": {
            "tags": []
          },
          "execution_count": 68
        },
        {
          "output_type": "display_data",
          "data": {
            "image/png": "[encoded data removed]",
            "text/plain": [
              "<Figure size 720x432 with 1 Axes>"
            ]
          },
          "metadata": {
            "tags": [],
            "needs_background": "light"
          }
        }
      ]
    },
    {
      "cell_type": "code",
      "metadata": {
        "id": "5z9MIjCAz29V",
        "colab_type": "code",
        "colab": {
          "base_uri": "https://localhost:8080/",
          "height": 34
        },
        "outputId": "3d467859-7862-4037-90c2-29a17756968a"
      },
      "source": [
        "lst = [x+1 for x in range(2*maxdepth)]\n",
        "tp = tree(xp,yp,np.zeros((5,12)),lst)\n",
        "evaluate(tp,xtep,ytep)"
      ],
      "execution_count": 69,
      "outputs": [
        {
          "output_type": "execute_result",
          "data": {
            "text/plain": [
              "(0.0, array([1., 1., 0.]))"
            ]
          },
          "metadata": {
            "tags": []
          },
          "execution_count": 69
        }
      ]
    },
    {
      "cell_type": "code",
      "metadata": {
        "id": "Hou2bclO4GUG",
        "colab_type": "code",
        "colab": {}
      },
      "source": [
        "def plotting(t,xp,yp):\n",
        "  plt.subplots(figsize = (10,6))\n",
        "  sns.scatterplot(xp[:,0],xp[:,1],hue = yp)\n",
        "  col = t.shape[1]\n",
        "  for i in range(col):\n",
        "    if t[4,i] == 0:\n",
        "      continue\n",
        "    else:\n",
        "      d = t[1,i]\n",
        "      c = t[2,i]\n",
        "      lim = np.linspace(0.1,10,10)\n",
        "      c = c*(lim/lim)\n",
        "      if d == 0:\n",
        "        plt.plot(c,lim,'--')\n",
        "      else:\n",
        "        plt.plot(lim,c,'--')\n"
      ],
      "execution_count": 0,
      "outputs": []
    },
    {
      "cell_type": "code",
      "metadata": {
        "id": "TmDnw8pM5j4V",
        "colab_type": "code",
        "colab": {
          "base_uri": "https://localhost:8080/",
          "height": 374
        },
        "outputId": "86b104e4-7403-412f-ee7a-c44c0eb9383f"
      },
      "source": [
        "plotting(tp,xp,yp)"
      ],
      "execution_count": 71,
      "outputs": [
        {
          "output_type": "display_data",
          "data": {
            "image/png": "[encoded data removed]",
            "text/plain": [
              "<Figure size 720x432 with 1 Axes>"
            ]
          },
          "metadata": {
            "tags": [],
            "needs_background": "light"
          }
        }
      ]
    },
    {
      "cell_type": "code",
      "metadata": {
        "id": "MI9QMIJpGji1",
        "colab_type": "code",
        "colab": {
          "base_uri": "https://localhost:8080/",
          "height": 34
        },
        "outputId": "1777da78-47f6-4316-f4bc-278619109993"
      },
      "source": [
        "dat = loadmat(\"/content/ion.mat\")\n",
        "xtr = dat['xTr']\n",
        "ytr = dat['yTr']\n",
        "yte = dat['yTe']\n",
        "xte = dat['xTe']\n",
        "xtr = xtr.reshape(281,34)\n",
        "xte = xte.reshape(70,34)\n",
        "\n",
        "\n",
        "n = xtr.shape[0]\n",
        "lst = [x+1 for x in range(1000)]\n",
        "t = np.zeros((5,n*3))\n",
        "\n",
        "\n",
        "t = tree(xtr,ytr,t,lst)\n",
        "err,_ = evaluate(t,xte,yte)\n",
        "\n",
        "\n",
        "print(\"The test error is:\",err)"
      ],
      "execution_count": 72,
      "outputs": [
        {
          "output_type": "stream",
          "text": [
            "The test error is: 0.4285714285714286\n"
          ],
          "name": "stdout"
        }
      ]
    },
    {
      "cell_type": "code",
      "metadata": {
        "id": "Mf0pmLi-87Yf",
        "colab_type": "code",
        "colab": {}
      },
      "source": [
        ""
      ],
      "execution_count": 0,
      "outputs": []
    }
  ]
}