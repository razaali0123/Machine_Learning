{
  "nbformat": 4,
  "nbformat_minor": 0,
  "metadata": {
    "colab": {
      "name": "KNN from Scratch",
      "provenance": [],
      "collapsed_sections": []
    },
    "kernelspec": {
      "name": "python3",
      "display_name": "Python 3"
    }
  },
  "cells": [
    {
      "cell_type": "code",
      "metadata": {
        "id": "zaSzGT2aaSvQ",
        "colab_type": "code",
        "colab": {}
      },
      "source": [
        "import numpy as np\n",
        "import matplotlib.pyplot as plt\n",
        "%matplotlib inline\n",
        "from scipy.io import loadmat\n",
        "from scipy.stats import mode"
      ],
      "execution_count": 0,
      "outputs": []
    },
    {
      "cell_type": "code",
      "metadata": {
        "id": "8uryuQA7adtv",
        "colab_type": "code",
        "colab": {}
      },
      "source": [
        "x = loadmat('digits')\n",
        "xtr = x['xTr']\n",
        "ytr = x['yTr']\n",
        "xte = x['xTe']\n",
        "yte = x['yTe']"
      ],
      "execution_count": 0,
      "outputs": []
    },
    {
      "cell_type": "code",
      "metadata": {
        "id": "bh1lbXa_g6B4",
        "colab_type": "code",
        "colab": {}
      },
      "source": [
        "fac = loadmat('faces.mat')\n",
        "fxtr = fac['xTr']\n",
        "fytr = fac['yTr']"
      ],
      "execution_count": 0,
      "outputs": []
    },
    {
      "cell_type": "code",
      "metadata": {
        "id": "n6SYQhN4y_YB",
        "colab_type": "code",
        "outputId": "6324bb23-cc4c-4879-d9b1-fd0bbffaeffb",
        "colab": {
          "base_uri": "https://localhost:8080/",
          "height": 34
        }
      },
      "source": [
        "x.keys()"
      ],
      "execution_count": 6,
      "outputs": [
        {
          "output_type": "execute_result",
          "data": {
            "text/plain": [
              "dict_keys(['__header__', '__version__', '__globals__', 'xTr', 'xTe', 'yTr', 'yTe'])"
            ]
          },
          "metadata": {
            "tags": []
          },
          "execution_count": 6
        }
      ]
    },
    {
      "cell_type": "code",
      "metadata": {
        "id": "-oaBabP7a5Q1",
        "colab_type": "code",
        "outputId": "5716ef4c-78a5-4446-c159-70ac3a2893a8",
        "colab": {
          "base_uri": "https://localhost:8080/",
          "height": 34
        }
      },
      "source": [
        "xtr.shape \n"
      ],
      "execution_count": 7,
      "outputs": [
        {
          "output_type": "execute_result",
          "data": {
            "text/plain": [
              "(256, 7291)"
            ]
          },
          "metadata": {
            "tags": []
          },
          "execution_count": 7
        }
      ]
    },
    {
      "cell_type": "code",
      "metadata": {
        "id": "mK3hUrBVbMWS",
        "colab_type": "code",
        "outputId": "61aadf6d-1690-4cbb-9b77-2013f24b66fb",
        "colab": {
          "base_uri": "https://localhost:8080/",
          "height": 34
        }
      },
      "source": [
        "ytr.shape"
      ],
      "execution_count": 8,
      "outputs": [
        {
          "output_type": "execute_result",
          "data": {
            "text/plain": [
              "(1, 7291)"
            ]
          },
          "metadata": {
            "tags": []
          },
          "execution_count": 8
        }
      ]
    },
    {
      "cell_type": "code",
      "metadata": {
        "id": "wjHkvlOZdDNL",
        "colab_type": "code",
        "outputId": "a4959fe0-767f-43c1-9064-ba5200aefb52",
        "colab": {
          "base_uri": "https://localhost:8080/",
          "height": 34
        }
      },
      "source": [
        "np.unique(ytr)"
      ],
      "execution_count": 9,
      "outputs": [
        {
          "output_type": "execute_result",
          "data": {
            "text/plain": [
              "array([0, 1, 2, 3, 4, 5, 6, 7, 8, 9], dtype=uint8)"
            ]
          },
          "metadata": {
            "tags": []
          },
          "execution_count": 9
        }
      ]
    },
    {
      "cell_type": "code",
      "metadata": {
        "id": "vLaEbuGigua4",
        "colab_type": "code",
        "colab": {
          "base_uri": "https://localhost:8080/",
          "height": 59
        },
        "outputId": "d9054014-1383-480e-cb00-2ce5933dfae6"
      },
      "source": [
        "n = 10\n",
        "for i in range(n):\n",
        "  plt.subplot(1,n,i+1)\n",
        "  imgarr = xtr [:,i]\n",
        "  imgarr = imgarr.reshape(16,16)\n",
        "  imgarr = imgarr.T\n",
        "  plt.axis('off')\n",
        "  plt.imshow(imgarr)\n"
      ],
      "execution_count": 10,
      "outputs": [
        {
          "output_type": "display_data",
          "data": {
            "image/png": "[encoded data removed]",
            "text/plain": [
              "<Figure size 432x288 with 10 Axes>"
            ]
          },
          "metadata": {
            "tags": []
          }
        }
      ]
    },
    {
      "cell_type": "code",
      "metadata": {
        "id": "N_pr8-KJgzgr",
        "colab_type": "code",
        "colab": {
          "base_uri": "https://localhost:8080/",
          "height": 102
        },
        "outputId": "2fa4ee65-6bb3-45d5-9cba-98f37c3daff4"
      },
      "source": [
        "p = 5\n",
        "for i in range(p):\n",
        "  img = fxtr[:,i]\n",
        "  img = img.reshape(31,38)\n",
        "  img = img.T\n",
        "  plt.subplot(1,p,i+1)\n",
        "  plt.axis('off')\n",
        "  plt.imshow(img)"
      ],
      "execution_count": 11,
      "outputs": [
        {
          "output_type": "display_data",
          "data": {
            "image/png": "[encoded data removed]",
            "text/plain": [
              "<Figure size 432x288 with 5 Axes>"
            ]
          },
          "metadata": {
            "tags": []
          }
        }
      ]
    },
    {
      "cell_type": "code",
      "metadata": {
        "id": "59eTTqBx1Jrm",
        "colab_type": "code",
        "outputId": "40fa88aa-f38c-4302-b507-2eda0d51ccab",
        "colab": {
          "base_uri": "https://localhost:8080/",
          "height": 34
        }
      },
      "source": [
        "xte.shape[1] == yte.shape[1]"
      ],
      "execution_count": 12,
      "outputs": [
        {
          "output_type": "execute_result",
          "data": {
            "text/plain": [
              "True"
            ]
          },
          "metadata": {
            "tags": []
          },
          "execution_count": 12
        }
      ]
    },
    {
      "cell_type": "code",
      "metadata": {
        "id": "cAZN0dgeAJWk",
        "colab_type": "code",
        "colab": {}
      },
      "source": [
        "def InnerProduct(X, Z = np.array([])):\n",
        "  if Z.size == 0:\n",
        "    Z = X\n",
        "  G = np.matmul(X.T,Z)\n",
        "  return G"
      ],
      "execution_count": 0,
      "outputs": []
    },
    {
      "cell_type": "code",
      "metadata": {
        "id": "yRSXG6hTAJHu",
        "colab_type": "code",
        "colab": {}
      },
      "source": [
        "def l2distance(X,Z):\n",
        "  # transpose[ diagonals(S) ] + diagonals(R) + G\n",
        "  # Where G R and S are:\n",
        "  # G = X.Z\n",
        "  # R = Z.Z\n",
        "  # S = X.X \n",
        "  n = X.shape[1]\n",
        "  m = Z.shape[1]\n",
        "  D = np.zeros((n,m))\n",
        "  G = InnerProduct(X,Z)\n",
        "  S = InnerProduct(X)\n",
        "  S = np.diag(S).reshape(S.shape[0],1)\n",
        "  R = np.diag(InnerProduct(Z))\n",
        "  D = (-2*G + R) + S\n",
        "  return D\n",
        "\n",
        "   "
      ],
      "execution_count": 0,
      "outputs": []
    },
    {
      "cell_type": "code",
      "metadata": {
        "id": "O-Exp1YPoE7B",
        "colab_type": "code",
        "colab": {}
      },
      "source": [
        "def findknn(xtr,xte,k):\n",
        "  d = l2distance(xtr,xte)\n",
        "  D = np.sort(d, axis = 0 )[:k,:]\n",
        "  I = (np.argsort(d,axis = 0)+1)[:k,:]\n",
        "  return [I,D]"
      ],
      "execution_count": 0,
      "outputs": []
    },
    {
      "cell_type": "code",
      "metadata": {
        "id": "cv9qwWJLJTT5",
        "colab_type": "code",
        "colab": {}
      },
      "source": [
        "def analyze(kind, truth , pred):\n",
        "  if kind == 'acc':\n",
        "    acc = ((pred == truth).sum())/np.size(truth)\n",
        "    return acc\n"
      ],
      "execution_count": 0,
      "outputs": []
    },
    {
      "cell_type": "code",
      "metadata": {
        "id": "XiIwm1mscEEv",
        "colab_type": "code",
        "outputId": "ffebbcf9-122d-4349-a414-983e65302cee",
        "colab": {
          "base_uri": "https://localhost:8080/",
          "height": 34
        }
      },
      "source": [
        "analyze('acc',np.array([1, 2, 1, 2]),np.array([1, 2, 1, 1]))"
      ],
      "execution_count": 17,
      "outputs": [
        {
          "output_type": "execute_result",
          "data": {
            "text/plain": [
              "0.75"
            ]
          },
          "metadata": {
            "tags": []
          },
          "execution_count": 17
        }
      ]
    },
    {
      "cell_type": "code",
      "metadata": {
        "id": "zJqCppUDVoZ_",
        "colab_type": "code",
        "colab": {}
      },
      "source": [
        "def knnclassifier(xtr,ytr,xte,k):\n",
        "  ind,dist = findknn(xtr,xte,k)\n",
        "  func = lambda x : ytr[0,x-1]\n",
        "  t = np.vectorize(func)\n",
        "  h = t(ind)\n",
        "  pred, _ = mode(h)\n",
        "  return pred\n"
      ],
      "execution_count": 0,
      "outputs": []
    },
    {
      "cell_type": "code",
      "metadata": {
        "id": "ggpuZ8Voa7Zw",
        "colab_type": "code",
        "outputId": "a74243bb-9d29-4b21-e262-9fbc927a9051",
        "colab": {
          "base_uri": "https://localhost:8080/",
          "height": 34
        }
      },
      "source": [
        "analyze(\"acc\",yte,knnclassifier(xtr,ytr,xte,3))"
      ],
      "execution_count": 19,
      "outputs": [
        {
          "output_type": "execute_result",
          "data": {
            "text/plain": [
              "0.9481813652217239"
            ]
          },
          "metadata": {
            "tags": []
          },
          "execution_count": 19
        }
      ]
    }
  ]
}