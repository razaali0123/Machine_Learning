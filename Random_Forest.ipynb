{
  "nbformat": 4,
  "nbformat_minor": 0,
  "metadata": {
    "colab": {
      "name": "Random_Forest",
      "provenance": [],
      "collapsed_sections": []
    },
    "kernelspec": {
      "name": "python3",
      "display_name": "Python 3"
    }
  },
  "cells": [
    {
      "cell_type": "code",
      "metadata": {
        "id": "gDDiDApI7XVm",
        "colab_type": "code",
        "colab": {}
      },
      "source": [
        "import numpy as np\n",
        "from scipy.io import loadmat\n",
        "from scipy import stats"
      ],
      "execution_count": 0,
      "outputs": []
    },
    {
      "cell_type": "code",
      "metadata": {
        "id": "2ysopAdCHTNv",
        "colab_type": "code",
        "colab": {}
      },
      "source": [
        "dat = loadmat(\"/content/ion.mat\")\n",
        "xtr = dat['xTr']\n",
        "ytr = dat['yTr']\n",
        "yte = dat['yTe']\n",
        "xte = dat['xTe']\n",
        "xtr = xtr.reshape(xtr.shape[1],-1)\n",
        "xte = xte.reshape(xte.shape[1],-1)"
      ],
      "execution_count": 0,
      "outputs": []
    },
    {
      "cell_type": "code",
      "metadata": {
        "id": "9hpgy4pDIgBJ",
        "colab_type": "code",
        "colab": {}
      },
      "source": [
        "def entropysplit(xtr,ytr):\n",
        "    # xtr : nxd\n",
        "    # ytr : nx1\n",
        "    n = xtr.shape[0]\n",
        "    dim = xtr.shape[1]\n",
        "    \n",
        "    IG = 0 #Information Gain set to 0 initially\n",
        "    final_entropy = 0\n",
        "    final_cut = 0\n",
        "    final_dim = 0\n",
        "    lst = []\n",
        "    \n",
        "    ytr = ytr.reshape(-1)\n",
        "    _,uniq = np.unique(ytr,return_counts = True)\n",
        "    tot = np.sum(uniq)\n",
        "    pk = uniq/tot\n",
        "    init_entropy = -1*np.sum(pk*np.log2(pk))\n",
        "    \n",
        "    if(init_entropy == 0):\n",
        "        return (-1,-1)\n",
        "    \n",
        "    \n",
        "    for d in range(dim):\n",
        "        x = xtr[:,d]\n",
        "        ind = np.argsort(x)\n",
        "        x = x[ind]\n",
        "        y = ytr[ind]\n",
        "        for i in range(len(x)-1):\n",
        "            cut = x[i]\n",
        "            ii = (x > cut)\n",
        "            ynew = y[ii]\n",
        "            sR = len(ynew)/n\n",
        "            sL = 1 - sR\n",
        "            _,c = np.unique(ynew,return_counts = True)\n",
        "            tot = np.sum(c)\n",
        "            pk = c/tot\n",
        "            eR = -1*np.sum(pk*np.log2(pk))\n",
        "            \n",
        "            ii = (x <= cut)\n",
        "            ynew = y[ii]\n",
        "            _,c = np.unique(ynew,return_counts = True)\n",
        "            tot = np.sum(c)\n",
        "            pk = c/tot\n",
        "            eL = -1*np.sum(pk*np.log2(pk))\n",
        "            \n",
        "            entropy = sR*eR + sL*eL\n",
        "            lst.append(entropy)\n",
        "            check = init_entropy - entropy\n",
        "            \n",
        "            if check > IG:\n",
        "                IG = check \n",
        "                final_entropy = entropy\n",
        "                final_cut = cut\n",
        "                final_dim = d          \n",
        "    return final_cut,final_dim"
      ],
      "execution_count": 0,
      "outputs": []
    },
    {
      "cell_type": "code",
      "metadata": {
        "id": "VDiQVbdQ7q0i",
        "colab_type": "code",
        "colab": {}
      },
      "source": [
        "def evaluate(t, xte, yte): \n",
        "    # t : Tree Matrix\n",
        "    # xte : nxd ---> test set\n",
        "    n = xte.shape[0]\n",
        "    ypred = np.zeros((n,1))\n",
        "    for i in range(n):\n",
        "        index = 0\n",
        "        while True:\n",
        "            if t[3,index] == 0:\n",
        "                ypred[i] = t[0,index]\n",
        "                break\n",
        "            else:\n",
        "                if xte[i,int(t[1,index])] > t[2,index]:\n",
        "                    index = int(t[3,index])\n",
        "                else:\n",
        "                    index = int(t[4,index])\n",
        "    \n",
        "    ypred = ypred.reshape(-1)\n",
        "    yte = yte.reshape(-1)\n",
        "    acc = np.sum(ypred == yte)/(len(ypred))\n",
        "    return (1-acc),ypred"
      ],
      "execution_count": 0,
      "outputs": []
    },
    {
      "cell_type": "code",
      "metadata": {
        "id": "5dD6aLHFrccK",
        "colab_type": "code",
        "colab": {}
      },
      "source": [
        "def RandomForest(xtr,ytr, t, column = 0, child = 1, maxdepth = 1000, depth = 0):\n",
        "  if depth > maxdepth:\n",
        "    return\n",
        "  d = xtr.shape[1]\n",
        "  k = int(np.round(np.sqrt(d)))\n",
        "  col = np.random.permutation(d)[:k]\n",
        "  ytr = ytr.reshape(-1)\n",
        "  mod = stats.mode(ytr)[0]\n",
        "  t[0,column] = mod\n",
        "\n",
        "  x_changed = xtr[:,col]\n",
        "  cut, dim = entropysplit(x_changed, ytr)\n",
        "  if(dim == -1):\n",
        "    t[1,column] = 0\n",
        "    t[2,column] = 0\n",
        "    t[3,column] = 0\n",
        "    t[4,column] = 0\n",
        "    return\n",
        "  dim = col[dim] # mapping back the dimention \n",
        "\n",
        "  t[1,column] = dim \n",
        "  t[2,column] = cut\n",
        "  t[3,column] = child\n",
        "  t[4,column] = child + 1 \n",
        "  child = child + 2\n",
        "  depth = depth + 1\n",
        "\n",
        "  ii = xtr[:,dim] > cut\n",
        "  x_greater = xtr[ii,:]\n",
        "  y_greater = ytr[ii]\n",
        "\n",
        "  ii1 = xtr[:,dim]<= cut\n",
        "  x_less = xtr[ii1,:]\n",
        "  y_less = ytr[ii1]\n",
        "\n",
        "  RandomForest(x_greater, y_greater,t, int(t[3,column]),child, maxdepth, depth)\n",
        "  RandomForest(x_less, y_less,t, int(t[4,column]),child, maxdepth, depth)\n",
        "  return t\n"
      ],
      "execution_count": 0,
      "outputs": []
    },
    {
      "cell_type": "code",
      "metadata": {
        "id": "3zu9E6WTzUVI",
        "colab_type": "code",
        "colab": {}
      },
      "source": [
        "def baggingforForest(xtr,ytr, xte, yte, m = 100):\n",
        "    n = xtr.shape[0]\n",
        "    ytr = ytr.reshape(-1)\n",
        "    for i in range(m):\n",
        "        t = np.zeros((5,n*3))\n",
        "\n",
        "        ## Making Data with replacement\n",
        "\n",
        "        v = np.arange(n)\n",
        "        ii =np.random.choice(v, size = n, replace = True)\n",
        "        xnew = xtr[ii,:]\n",
        "        ynew = ytr[ii]\n",
        "\n",
        "\n",
        "        #####------------------------######\n",
        "\n",
        "        # ind = v[np.isin(v,ii,invert=True)]\n",
        "        # xtest = xtr[ind,:]\n",
        "        # ytest = ytr[ind]\n",
        "    \n",
        "        t = RandomForest(xnew,ynew,t)\n",
        "        err, ypred = evaluate(t,xte,yte)\n",
        "    #     total_error = total_error + (err)\n",
        "\n",
        "    # total_error = total_error/m\n",
        "    # return total_error \n",
        "\n",
        "        if i == 0:\n",
        "            conc = ypred.reshape(-1,1)\n",
        "        else:\n",
        "            conc = np.concatenate((conc,ypred.reshape(-1,1)), axis = 1)\n",
        "    \n",
        "    \n",
        "    final = stats.mode(conc, axis = 1)[0]\n",
        "    ytr = ytr.reshape(-1,1)\n",
        "    acc = np.sum(final == yte.reshape(-1,1))/len(final)\n",
        "    return (1-acc)\n",
        "        "
      ],
      "execution_count": 0,
      "outputs": []
    },
    {
      "cell_type": "code",
      "metadata": {
        "id": "eA46x8Jm6BLr",
        "colab_type": "code",
        "outputId": "6794fdf2-9773-492e-99f2-0eceaf39938a",
        "colab": {
          "base_uri": "https://localhost:8080/",
          "height": 34
        }
      },
      "source": [
        "err = baggingforForest(xtr,ytr,xtr,ytr,130)\n",
        "print(\"The error for the sample set is :\",err*100,\"%\")"
      ],
      "execution_count": 138,
      "outputs": [
        {
          "output_type": "stream",
          "text": [
            "The error for the sample set is : 14.590747330960852 %\n"
          ],
          "name": "stdout"
        }
      ]
    }
  ]
}